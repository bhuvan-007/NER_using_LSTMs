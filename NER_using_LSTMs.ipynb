{
 "cells": [
  {
   "cell_type": "markdown",
   "metadata": {
    "colab_type": "text",
    "id": "T02HVAejDTFJ"
   },
   "source": [
    "# Named Entity Recognition using LSTM model\n"
   ]
  },
  {
   "cell_type": "markdown",
   "metadata": {
    "colab_type": "text",
    "id": "qxu_3nZ7DTFL"
   },
   "source": [
    "Named-entity recognition (NER) is a subtask of information extraction that seeks to locate and classify named entity mentioned in unstructured text into pre-defined categories such as person names, organizations, locations, medical codes, time expressions, quantities, monetary values, percentages, etc."
   ]
  },
  {
   "cell_type": "code",
   "execution_count": 1,
   "metadata": {
    "colab": {
     "base_uri": "https://localhost:8080/",
     "height": 237
    },
    "colab_type": "code",
    "id": "-coimb7ODTFO",
    "outputId": "10fa82bd-4e34-4e6a-e5ba-2ea176cc8508"
   },
   "outputs": [
    {
     "name": "stderr",
     "output_type": "stream",
     "text": [
      "Using TensorFlow backend.\n",
      "/usr/local/lib/python3.6/dist-packages/tensorflow/python/framework/dtypes.py:516: FutureWarning: Passing (type, 1) or '1type' as a synonym of type is deprecated; in a future version of numpy, it will be understood as (type, (1,)) / '(1,)type'.\n",
      "  _np_qint8 = np.dtype([(\"qint8\", np.int8, 1)])\n",
      "/usr/local/lib/python3.6/dist-packages/tensorflow/python/framework/dtypes.py:517: FutureWarning: Passing (type, 1) or '1type' as a synonym of type is deprecated; in a future version of numpy, it will be understood as (type, (1,)) / '(1,)type'.\n",
      "  _np_quint8 = np.dtype([(\"quint8\", np.uint8, 1)])\n",
      "/usr/local/lib/python3.6/dist-packages/tensorflow/python/framework/dtypes.py:518: FutureWarning: Passing (type, 1) or '1type' as a synonym of type is deprecated; in a future version of numpy, it will be understood as (type, (1,)) / '(1,)type'.\n",
      "  _np_qint16 = np.dtype([(\"qint16\", np.int16, 1)])\n",
      "/usr/local/lib/python3.6/dist-packages/tensorflow/python/framework/dtypes.py:519: FutureWarning: Passing (type, 1) or '1type' as a synonym of type is deprecated; in a future version of numpy, it will be understood as (type, (1,)) / '(1,)type'.\n",
      "  _np_quint16 = np.dtype([(\"quint16\", np.uint16, 1)])\n",
      "/usr/local/lib/python3.6/dist-packages/tensorflow/python/framework/dtypes.py:520: FutureWarning: Passing (type, 1) or '1type' as a synonym of type is deprecated; in a future version of numpy, it will be understood as (type, (1,)) / '(1,)type'.\n",
      "  _np_qint32 = np.dtype([(\"qint32\", np.int32, 1)])\n",
      "/usr/local/lib/python3.6/dist-packages/tensorflow/python/framework/dtypes.py:525: FutureWarning: Passing (type, 1) or '1type' as a synonym of type is deprecated; in a future version of numpy, it will be understood as (type, (1,)) / '(1,)type'.\n",
      "  np_resource = np.dtype([(\"resource\", np.ubyte, 1)])\n",
      "/usr/local/lib/python3.6/dist-packages/tensorboard/compat/tensorflow_stub/dtypes.py:541: FutureWarning: Passing (type, 1) or '1type' as a synonym of type is deprecated; in a future version of numpy, it will be understood as (type, (1,)) / '(1,)type'.\n",
      "  _np_qint8 = np.dtype([(\"qint8\", np.int8, 1)])\n",
      "/usr/local/lib/python3.6/dist-packages/tensorboard/compat/tensorflow_stub/dtypes.py:542: FutureWarning: Passing (type, 1) or '1type' as a synonym of type is deprecated; in a future version of numpy, it will be understood as (type, (1,)) / '(1,)type'.\n",
      "  _np_quint8 = np.dtype([(\"quint8\", np.uint8, 1)])\n",
      "/usr/local/lib/python3.6/dist-packages/tensorboard/compat/tensorflow_stub/dtypes.py:543: FutureWarning: Passing (type, 1) or '1type' as a synonym of type is deprecated; in a future version of numpy, it will be understood as (type, (1,)) / '(1,)type'.\n",
      "  _np_qint16 = np.dtype([(\"qint16\", np.int16, 1)])\n",
      "/usr/local/lib/python3.6/dist-packages/tensorboard/compat/tensorflow_stub/dtypes.py:544: FutureWarning: Passing (type, 1) or '1type' as a synonym of type is deprecated; in a future version of numpy, it will be understood as (type, (1,)) / '(1,)type'.\n",
      "  _np_quint16 = np.dtype([(\"quint16\", np.uint16, 1)])\n",
      "/usr/local/lib/python3.6/dist-packages/tensorboard/compat/tensorflow_stub/dtypes.py:545: FutureWarning: Passing (type, 1) or '1type' as a synonym of type is deprecated; in a future version of numpy, it will be understood as (type, (1,)) / '(1,)type'.\n",
      "  _np_qint32 = np.dtype([(\"qint32\", np.int32, 1)])\n",
      "/usr/local/lib/python3.6/dist-packages/tensorboard/compat/tensorflow_stub/dtypes.py:550: FutureWarning: Passing (type, 1) or '1type' as a synonym of type is deprecated; in a future version of numpy, it will be understood as (type, (1,)) / '(1,)type'.\n",
      "  np_resource = np.dtype([(\"resource\", np.ubyte, 1)])\n"
     ]
    }
   ],
   "source": [
    "import pandas as pd\n",
    "pd.options.display.max_rows = 4000\n",
    "import numpy as np\n",
    "from sklearn.model_selection import train_test_split\n",
    "from collections import Counter\n",
    "import matplotlib.pyplot as plt\n",
    "!pip install sklearn_crfsuite\n",
    "from sklearn_crfsuite.metrics import flat_classification_report\n",
    "from keras.preprocessing.sequence import pad_sequences\n",
    "from keras.utils import to_categorical\n",
    "from keras.models import Model, Input,Sequential\n",
    "from keras.layers import LSTM, Dense, Embedding, Bidirectional\n",
    "path=\"Enter Dataset Path Here\""
   ]
  },
  {
   "cell_type": "code",
   "execution_count": 3,
   "metadata": {
    "colab": {
     "base_uri": "https://localhost:8080/",
     "height": 1000
    },
    "colab_type": "code",
    "id": "X2_q0cXFDTFY",
    "outputId": "47839c78-4274-4732-8f6c-ec16f916b04c"
   },
   "outputs": [
    {
     "data": {
      "text/html": [
       "<div>\n",
       "<style scoped>\n",
       "    .dataframe tbody tr th:only-of-type {\n",
       "        vertical-align: middle;\n",
       "    }\n",
       "\n",
       "    .dataframe tbody tr th {\n",
       "        vertical-align: top;\n",
       "    }\n",
       "\n",
       "    .dataframe thead th {\n",
       "        text-align: right;\n",
       "    }\n",
       "</style>\n",
       "<table border=\"1\" class=\"dataframe\">\n",
       "  <thead>\n",
       "    <tr style=\"text-align: right;\">\n",
       "      <th></th>\n",
       "      <th>Unnamed: 0</th>\n",
       "      <th>Sentence #</th>\n",
       "      <th>Word</th>\n",
       "      <th>POS</th>\n",
       "      <th>Tag</th>\n",
       "    </tr>\n",
       "  </thead>\n",
       "  <tbody>\n",
       "    <tr>\n",
       "      <th>0</th>\n",
       "      <td>0</td>\n",
       "      <td>Sentence: 1</td>\n",
       "      <td>Thousands</td>\n",
       "      <td>NNS</td>\n",
       "      <td>O</td>\n",
       "    </tr>\n",
       "    <tr>\n",
       "      <th>1</th>\n",
       "      <td>1</td>\n",
       "      <td>NaN</td>\n",
       "      <td>of</td>\n",
       "      <td>IN</td>\n",
       "      <td>O</td>\n",
       "    </tr>\n",
       "    <tr>\n",
       "      <th>2</th>\n",
       "      <td>2</td>\n",
       "      <td>NaN</td>\n",
       "      <td>demonstrators</td>\n",
       "      <td>NNS</td>\n",
       "      <td>O</td>\n",
       "    </tr>\n",
       "    <tr>\n",
       "      <th>3</th>\n",
       "      <td>3</td>\n",
       "      <td>NaN</td>\n",
       "      <td>have</td>\n",
       "      <td>VBP</td>\n",
       "      <td>O</td>\n",
       "    </tr>\n",
       "    <tr>\n",
       "      <th>4</th>\n",
       "      <td>4</td>\n",
       "      <td>NaN</td>\n",
       "      <td>marched</td>\n",
       "      <td>VBN</td>\n",
       "      <td>O</td>\n",
       "    </tr>\n",
       "    <tr>\n",
       "      <th>5</th>\n",
       "      <td>5</td>\n",
       "      <td>NaN</td>\n",
       "      <td>through</td>\n",
       "      <td>IN</td>\n",
       "      <td>O</td>\n",
       "    </tr>\n",
       "    <tr>\n",
       "      <th>6</th>\n",
       "      <td>6</td>\n",
       "      <td>NaN</td>\n",
       "      <td>London</td>\n",
       "      <td>NNP</td>\n",
       "      <td>B-geo</td>\n",
       "    </tr>\n",
       "    <tr>\n",
       "      <th>7</th>\n",
       "      <td>7</td>\n",
       "      <td>NaN</td>\n",
       "      <td>to</td>\n",
       "      <td>TO</td>\n",
       "      <td>O</td>\n",
       "    </tr>\n",
       "    <tr>\n",
       "      <th>8</th>\n",
       "      <td>8</td>\n",
       "      <td>NaN</td>\n",
       "      <td>protest</td>\n",
       "      <td>VB</td>\n",
       "      <td>O</td>\n",
       "    </tr>\n",
       "    <tr>\n",
       "      <th>9</th>\n",
       "      <td>9</td>\n",
       "      <td>NaN</td>\n",
       "      <td>the</td>\n",
       "      <td>DT</td>\n",
       "      <td>O</td>\n",
       "    </tr>\n",
       "    <tr>\n",
       "      <th>10</th>\n",
       "      <td>10</td>\n",
       "      <td>NaN</td>\n",
       "      <td>war</td>\n",
       "      <td>NN</td>\n",
       "      <td>O</td>\n",
       "    </tr>\n",
       "    <tr>\n",
       "      <th>11</th>\n",
       "      <td>11</td>\n",
       "      <td>NaN</td>\n",
       "      <td>in</td>\n",
       "      <td>IN</td>\n",
       "      <td>O</td>\n",
       "    </tr>\n",
       "    <tr>\n",
       "      <th>12</th>\n",
       "      <td>12</td>\n",
       "      <td>NaN</td>\n",
       "      <td>Iraq</td>\n",
       "      <td>NNP</td>\n",
       "      <td>B-geo</td>\n",
       "    </tr>\n",
       "    <tr>\n",
       "      <th>13</th>\n",
       "      <td>13</td>\n",
       "      <td>NaN</td>\n",
       "      <td>and</td>\n",
       "      <td>CC</td>\n",
       "      <td>O</td>\n",
       "    </tr>\n",
       "    <tr>\n",
       "      <th>14</th>\n",
       "      <td>14</td>\n",
       "      <td>NaN</td>\n",
       "      <td>demand</td>\n",
       "      <td>VB</td>\n",
       "      <td>O</td>\n",
       "    </tr>\n",
       "    <tr>\n",
       "      <th>15</th>\n",
       "      <td>15</td>\n",
       "      <td>NaN</td>\n",
       "      <td>the</td>\n",
       "      <td>DT</td>\n",
       "      <td>O</td>\n",
       "    </tr>\n",
       "    <tr>\n",
       "      <th>16</th>\n",
       "      <td>16</td>\n",
       "      <td>NaN</td>\n",
       "      <td>withdrawal</td>\n",
       "      <td>NN</td>\n",
       "      <td>O</td>\n",
       "    </tr>\n",
       "    <tr>\n",
       "      <th>17</th>\n",
       "      <td>17</td>\n",
       "      <td>NaN</td>\n",
       "      <td>of</td>\n",
       "      <td>IN</td>\n",
       "      <td>O</td>\n",
       "    </tr>\n",
       "    <tr>\n",
       "      <th>18</th>\n",
       "      <td>18</td>\n",
       "      <td>NaN</td>\n",
       "      <td>British</td>\n",
       "      <td>JJ</td>\n",
       "      <td>B-gpe</td>\n",
       "    </tr>\n",
       "    <tr>\n",
       "      <th>19</th>\n",
       "      <td>19</td>\n",
       "      <td>NaN</td>\n",
       "      <td>troops</td>\n",
       "      <td>NNS</td>\n",
       "      <td>O</td>\n",
       "    </tr>\n",
       "    <tr>\n",
       "      <th>20</th>\n",
       "      <td>20</td>\n",
       "      <td>NaN</td>\n",
       "      <td>from</td>\n",
       "      <td>IN</td>\n",
       "      <td>O</td>\n",
       "    </tr>\n",
       "    <tr>\n",
       "      <th>21</th>\n",
       "      <td>21</td>\n",
       "      <td>NaN</td>\n",
       "      <td>that</td>\n",
       "      <td>DT</td>\n",
       "      <td>O</td>\n",
       "    </tr>\n",
       "    <tr>\n",
       "      <th>22</th>\n",
       "      <td>22</td>\n",
       "      <td>NaN</td>\n",
       "      <td>country</td>\n",
       "      <td>NN</td>\n",
       "      <td>O</td>\n",
       "    </tr>\n",
       "    <tr>\n",
       "      <th>23</th>\n",
       "      <td>23</td>\n",
       "      <td>NaN</td>\n",
       "      <td>.</td>\n",
       "      <td>.</td>\n",
       "      <td>O</td>\n",
       "    </tr>\n",
       "    <tr>\n",
       "      <th>24</th>\n",
       "      <td>24</td>\n",
       "      <td>Sentence: 2</td>\n",
       "      <td>Families</td>\n",
       "      <td>NNS</td>\n",
       "      <td>O</td>\n",
       "    </tr>\n",
       "    <tr>\n",
       "      <th>25</th>\n",
       "      <td>25</td>\n",
       "      <td>NaN</td>\n",
       "      <td>of</td>\n",
       "      <td>IN</td>\n",
       "      <td>O</td>\n",
       "    </tr>\n",
       "    <tr>\n",
       "      <th>26</th>\n",
       "      <td>26</td>\n",
       "      <td>NaN</td>\n",
       "      <td>soldiers</td>\n",
       "      <td>NNS</td>\n",
       "      <td>O</td>\n",
       "    </tr>\n",
       "    <tr>\n",
       "      <th>27</th>\n",
       "      <td>27</td>\n",
       "      <td>NaN</td>\n",
       "      <td>killed</td>\n",
       "      <td>VBN</td>\n",
       "      <td>O</td>\n",
       "    </tr>\n",
       "    <tr>\n",
       "      <th>28</th>\n",
       "      <td>28</td>\n",
       "      <td>NaN</td>\n",
       "      <td>in</td>\n",
       "      <td>IN</td>\n",
       "      <td>O</td>\n",
       "    </tr>\n",
       "    <tr>\n",
       "      <th>29</th>\n",
       "      <td>29</td>\n",
       "      <td>NaN</td>\n",
       "      <td>the</td>\n",
       "      <td>DT</td>\n",
       "      <td>O</td>\n",
       "    </tr>\n",
       "    <tr>\n",
       "      <th>30</th>\n",
       "      <td>30</td>\n",
       "      <td>NaN</td>\n",
       "      <td>conflict</td>\n",
       "      <td>NN</td>\n",
       "      <td>O</td>\n",
       "    </tr>\n",
       "    <tr>\n",
       "      <th>31</th>\n",
       "      <td>31</td>\n",
       "      <td>NaN</td>\n",
       "      <td>joined</td>\n",
       "      <td>VBD</td>\n",
       "      <td>O</td>\n",
       "    </tr>\n",
       "    <tr>\n",
       "      <th>32</th>\n",
       "      <td>32</td>\n",
       "      <td>NaN</td>\n",
       "      <td>the</td>\n",
       "      <td>DT</td>\n",
       "      <td>O</td>\n",
       "    </tr>\n",
       "    <tr>\n",
       "      <th>33</th>\n",
       "      <td>33</td>\n",
       "      <td>NaN</td>\n",
       "      <td>protesters</td>\n",
       "      <td>NNS</td>\n",
       "      <td>O</td>\n",
       "    </tr>\n",
       "    <tr>\n",
       "      <th>34</th>\n",
       "      <td>34</td>\n",
       "      <td>NaN</td>\n",
       "      <td>who</td>\n",
       "      <td>WP</td>\n",
       "      <td>O</td>\n",
       "    </tr>\n",
       "    <tr>\n",
       "      <th>35</th>\n",
       "      <td>35</td>\n",
       "      <td>NaN</td>\n",
       "      <td>carried</td>\n",
       "      <td>VBD</td>\n",
       "      <td>O</td>\n",
       "    </tr>\n",
       "    <tr>\n",
       "      <th>36</th>\n",
       "      <td>36</td>\n",
       "      <td>NaN</td>\n",
       "      <td>banners</td>\n",
       "      <td>NNS</td>\n",
       "      <td>O</td>\n",
       "    </tr>\n",
       "    <tr>\n",
       "      <th>37</th>\n",
       "      <td>37</td>\n",
       "      <td>NaN</td>\n",
       "      <td>with</td>\n",
       "      <td>IN</td>\n",
       "      <td>O</td>\n",
       "    </tr>\n",
       "    <tr>\n",
       "      <th>38</th>\n",
       "      <td>38</td>\n",
       "      <td>NaN</td>\n",
       "      <td>such</td>\n",
       "      <td>JJ</td>\n",
       "      <td>O</td>\n",
       "    </tr>\n",
       "    <tr>\n",
       "      <th>39</th>\n",
       "      <td>39</td>\n",
       "      <td>NaN</td>\n",
       "      <td>slogans</td>\n",
       "      <td>NNS</td>\n",
       "      <td>O</td>\n",
       "    </tr>\n",
       "  </tbody>\n",
       "</table>\n",
       "</div>"
      ],
      "text/plain": [
       "    Unnamed: 0   Sentence #           Word  POS    Tag\n",
       "0            0  Sentence: 1      Thousands  NNS      O\n",
       "1            1          NaN             of   IN      O\n",
       "2            2          NaN  demonstrators  NNS      O\n",
       "3            3          NaN           have  VBP      O\n",
       "4            4          NaN        marched  VBN      O\n",
       "5            5          NaN        through   IN      O\n",
       "6            6          NaN         London  NNP  B-geo\n",
       "7            7          NaN             to   TO      O\n",
       "8            8          NaN        protest   VB      O\n",
       "9            9          NaN            the   DT      O\n",
       "10          10          NaN            war   NN      O\n",
       "11          11          NaN             in   IN      O\n",
       "12          12          NaN           Iraq  NNP  B-geo\n",
       "13          13          NaN            and   CC      O\n",
       "14          14          NaN         demand   VB      O\n",
       "15          15          NaN            the   DT      O\n",
       "16          16          NaN     withdrawal   NN      O\n",
       "17          17          NaN             of   IN      O\n",
       "18          18          NaN        British   JJ  B-gpe\n",
       "19          19          NaN         troops  NNS      O\n",
       "20          20          NaN           from   IN      O\n",
       "21          21          NaN           that   DT      O\n",
       "22          22          NaN        country   NN      O\n",
       "23          23          NaN              .    .      O\n",
       "24          24  Sentence: 2       Families  NNS      O\n",
       "25          25          NaN             of   IN      O\n",
       "26          26          NaN       soldiers  NNS      O\n",
       "27          27          NaN         killed  VBN      O\n",
       "28          28          NaN             in   IN      O\n",
       "29          29          NaN            the   DT      O\n",
       "30          30          NaN       conflict   NN      O\n",
       "31          31          NaN         joined  VBD      O\n",
       "32          32          NaN            the   DT      O\n",
       "33          33          NaN     protesters  NNS      O\n",
       "34          34          NaN            who   WP      O\n",
       "35          35          NaN        carried  VBD      O\n",
       "36          36          NaN        banners  NNS      O\n",
       "37          37          NaN           with   IN      O\n",
       "38          38          NaN           such   JJ      O\n",
       "39          39          NaN        slogans  NNS      O"
      ]
     },
     "execution_count": 3,
     "metadata": {
      "tags": []
     },
     "output_type": "execute_result"
    }
   ],
   "source": [
    "#Reading the csv file\n",
    "data = pd.read_csv(path+'ner_dataset.csv', encoding = \"ISO-8859-1\")\n",
    "data.head(40)"
   ]
  },
  {
   "cell_type": "markdown",
   "metadata": {
    "colab_type": "text",
    "id": "isG3bYoeW2ZI"
   },
   "source": [
    "\n",
    "\n",
    "*   ```Sentence # =id of sentence.```\n",
    "*   ```Word represents word of sentence.```\n",
    "*  ```POS represents part of speech of sentence.```\n",
    "*   ```Tag represents tag of word.```<br>"
   ]
  },
  {
   "cell_type": "markdown",
   "metadata": {
    "colab_type": "text",
    "id": "pWfzpBM5nb9H"
   },
   "source": [
    "**Fill NaN values**<br>\n",
    "\n",
    "\n",
    "---\n",
    "\n",
    "\n",
    "\n",
    ">*   ```There are lots of missing values in 'Sentence #' attribute.``` <br>```So we will use 'ffill' method which propagates last valid observation forward to next.```\n",
    ">*   ```'ffill' stands for 'forward fill'```\n",
    "\n",
    "\n"
   ]
  },
  {
   "cell_type": "code",
   "execution_count": 0,
   "metadata": {
    "colab": {},
    "colab_type": "code",
    "id": "LoeeavywnUxP"
   },
   "outputs": [],
   "source": [
    "data[\"Sentence #\"]=data[\"Sentence #\"].fillna(method='ffill')"
   ]
  },
  {
   "cell_type": "markdown",
   "metadata": {
    "colab_type": "text",
    "id": "2n0M7GBCSNlc"
   },
   "source": [
    "\n",
    "```To understand more about the DataFrame,check below code and see how sentences can be reformed from the DataFrame.```\n",
    "\n",
    "\n"
   ]
  },
  {
   "cell_type": "code",
   "execution_count": 5,
   "metadata": {
    "colab": {
     "base_uri": "https://localhost:8080/",
     "height": 74
    },
    "colab_type": "code",
    "id": "sq8C3n3fb9zu",
    "outputId": "c6949f11-328e-4361-9b87-0ad667dc022c"
   },
   "outputs": [
    {
     "name": "stdout",
     "output_type": "stream",
     "text": [
      "The 1 sentence is \n",
      "Iranian officials say they expect to get access to sealed sensitive parts of the plant Wednesday , after an IAEA surveillance system begins functioning .\n"
     ]
    }
   ],
   "source": [
    "sentences_list=data.groupby(\"Sentence #\").apply(lambda a :a[\"Word\"].tolist())\n",
    "i=1\n",
    "print(\"The {} sentence is \".format(i))\n",
    "print(\" \".join(sentences_list[i]))"
   ]
  },
  {
   "cell_type": "code",
   "execution_count": 6,
   "metadata": {
    "colab": {
     "base_uri": "https://localhost:8080/",
     "height": 288
    },
    "colab_type": "code",
    "id": "MemkDMU0DTFj",
    "outputId": "8a72b504-a8b9-450f-aa21-c9ada6fcfa0a"
   },
   "outputs": [
    {
     "data": {
      "text/html": [
       "<div>\n",
       "<style scoped>\n",
       "    .dataframe tbody tr th:only-of-type {\n",
       "        vertical-align: middle;\n",
       "    }\n",
       "\n",
       "    .dataframe tbody tr th {\n",
       "        vertical-align: top;\n",
       "    }\n",
       "\n",
       "    .dataframe thead th {\n",
       "        text-align: right;\n",
       "    }\n",
       "</style>\n",
       "<table border=\"1\" class=\"dataframe\">\n",
       "  <thead>\n",
       "    <tr style=\"text-align: right;\">\n",
       "      <th></th>\n",
       "      <th>Unnamed: 0</th>\n",
       "    </tr>\n",
       "  </thead>\n",
       "  <tbody>\n",
       "    <tr>\n",
       "      <th>count</th>\n",
       "      <td>1.048575e+06</td>\n",
       "    </tr>\n",
       "    <tr>\n",
       "      <th>mean</th>\n",
       "      <td>5.242870e+05</td>\n",
       "    </tr>\n",
       "    <tr>\n",
       "      <th>std</th>\n",
       "      <td>3.026977e+05</td>\n",
       "    </tr>\n",
       "    <tr>\n",
       "      <th>min</th>\n",
       "      <td>0.000000e+00</td>\n",
       "    </tr>\n",
       "    <tr>\n",
       "      <th>25%</th>\n",
       "      <td>2.621435e+05</td>\n",
       "    </tr>\n",
       "    <tr>\n",
       "      <th>50%</th>\n",
       "      <td>5.242870e+05</td>\n",
       "    </tr>\n",
       "    <tr>\n",
       "      <th>75%</th>\n",
       "      <td>7.864305e+05</td>\n",
       "    </tr>\n",
       "    <tr>\n",
       "      <th>max</th>\n",
       "      <td>1.048574e+06</td>\n",
       "    </tr>\n",
       "  </tbody>\n",
       "</table>\n",
       "</div>"
      ],
      "text/plain": [
       "         Unnamed: 0\n",
       "count  1.048575e+06\n",
       "mean   5.242870e+05\n",
       "std    3.026977e+05\n",
       "min    0.000000e+00\n",
       "25%    2.621435e+05\n",
       "50%    5.242870e+05\n",
       "75%    7.864305e+05\n",
       "max    1.048574e+06"
      ]
     },
     "execution_count": 6,
     "metadata": {
      "tags": []
     },
     "output_type": "execute_result"
    }
   ],
   "source": [
    "data.describe()"
   ]
  },
  {
   "cell_type": "markdown",
   "metadata": {
    "colab_type": "text",
    "id": "y7Jrdh6irfkE"
   },
   "source": [
    "**Verification Check For NULL Values**\n",
    "\n",
    "---\n",
    "\n"
   ]
  },
  {
   "cell_type": "code",
   "execution_count": 7,
   "metadata": {
    "colab": {
     "base_uri": "https://localhost:8080/",
     "height": 126
    },
    "colab_type": "code",
    "id": "rY53yBNBrkEa",
    "outputId": "386dce47-eeb6-4028-aa3f-9ba2ae4b335f"
   },
   "outputs": [
    {
     "data": {
      "text/plain": [
       "Unnamed: 0    0\n",
       "Sentence #    0\n",
       "Word          0\n",
       "POS           0\n",
       "Tag           0\n",
       "dtype: int64"
      ]
     },
     "execution_count": 7,
     "metadata": {
      "tags": []
     },
     "output_type": "execute_result"
    }
   ],
   "source": [
    "data.isnull().sum()"
   ]
  },
  {
   "cell_type": "markdown",
   "metadata": {
    "colab_type": "text",
    "id": "xWC4oNPhr1PO"
   },
   "source": [
    "**Class Distribution**\n",
    "\n",
    "---\n",
    "\n"
   ]
  },
  {
   "cell_type": "code",
   "execution_count": 8,
   "metadata": {
    "colab": {
     "base_uri": "https://localhost:8080/",
     "height": 254
    },
    "colab_type": "code",
    "id": "7xOCNnaEDTFo",
    "outputId": "271ec663-6403-4e65-f024-31e286244a54"
   },
   "outputs": [
    {
     "name": "stdout",
     "output_type": "stream",
     "text": [
      "Total number of labels possible are  11\n"
     ]
    },
    {
     "data": {
      "text/plain": [
       "O        889420\n",
       "B-geo     37644\n",
       "B-tim     20333\n",
       "B-org     20143\n",
       "I-per     17251\n",
       "B-per     16990\n",
       "I-org     16784\n",
       "B-gpe     15870\n",
       "I-geo      7414\n",
       "I-tim      6528\n",
       "I-gpe       198\n",
       "Name: Tag, dtype: int64"
      ]
     },
     "execution_count": 8,
     "metadata": {
      "tags": []
     },
     "output_type": "execute_result"
    }
   ],
   "source": [
    "print(\"Total number of labels possible are \",len(data['Tag'].value_counts()))\n",
    "data['Tag'].value_counts()"
   ]
  },
  {
   "cell_type": "markdown",
   "metadata": {
    "colab_type": "text",
    "id": "M6Vp5VZIhhLc"
   },
   "source": [
    "```B- stands Beginning of Tag Phrase```<br>\n",
    "\n",
    "\n",
    "```I-stands for inside of Tag Phrase.```<br>\n",
    "```e.g. For entity \"International Atomic Energy >Agency\"```<br>\n",
    "```Tagging goes like this```<br>\n",
    ">```International - B-org``` <br>\n",
    ">```Atomic - I-org```<br>\n",
    ">```Energy - I-org```<br>\n",
    ">```Agency - I-org```<br>\n",
    "\n",
    "```Entities abbreviations :-```<br>\n",
    "\n",
    ">*   ```geo = Geographical Entity```\n",
    ">*   ```org = Organization```\n",
    ">*   ```per = Person```\n",
    ">*   ```gpe = Geopolitical Entity```\n",
    ">*   ```tim = Time indicator```\n",
    "\n",
    "\n",
    "\n",
    "\n",
    "\n",
    "\n"
   ]
  },
  {
   "cell_type": "markdown",
   "metadata": {
    "colab_type": "text",
    "id": "aYBNsybykXDG"
   },
   "source": [
    "\n",
    "```\n",
    "See what words have been tagged with which Tags.\n",
    "```\n",
    "\n"
   ]
  },
  {
   "cell_type": "code",
   "execution_count": 9,
   "metadata": {
    "colab": {
     "base_uri": "https://localhost:8080/",
     "height": 237
    },
    "colab_type": "code",
    "id": "ujJ9igk1kWi0",
    "outputId": "688935ef-ceb0-4b8b-aaba-62bc1af7ffd9"
   },
   "outputs": [
    {
     "name": "stdout",
     "output_type": "stream",
     "text": [
      "O [('the', 52343), ('.', 47761), (',', 32476), ('in', 26199), ('of', 25127), ('to', 23095), ('a', 20481), ('and', 19228), ('The', 11038), (\"'s\", 10535)]\n",
      "B-geo [('U.S.', 3169), ('Iraq', 1666), ('United', 1259), ('Iran', 1243), ('China', 908), ('Israel', 891), ('Afghanistan', 825), ('Pakistan', 733), ('Baghdad', 713), ('Russia', 554)]\n",
      "B-gpe [('Iraqi', 1137), ('Palestinian', 988), ('Israeli', 987), ('Afghan', 814), ('British', 568), ('American', 539), ('Russian', 518), ('Pakistani', 466), ('Chinese', 453), ('Iranian', 380)]\n",
      "B-per [('Mr.', 3085), ('President', 2411), ('Prime', 783), ('Minister', 197), ('Ms.', 176), ('John', 160), ('General', 139), ('Saddam', 119), ('Secretary', 98), ('Senator', 93)]\n",
      "I-geo [('States', 1255), ('Korea', 477), ('Strip', 195), ('York', 185), ('of', 184), ('East', 181), ('Africa', 177), ('City', 144), ('Union', 120), ('Afghanistan', 114)]\n",
      "B-org [('U.S.', 847), ('United', 728), ('U.N.', 547), ('Taleban', 542), ('NATO', 471), ('European', 448), ('al-Qaida', 397), ('Hamas', 375), ('EU', 366), ('White', 272)]\n",
      "I-org [('Nations', 596), ('of', 491), ('and', 475), ('Union', 440), ('Council', 364), ('Security', 312), ('Department', 311), (\"'s\", 310), ('House', 309), ('Ministry', 294)]\n",
      "B-tim [('Tuesday', 1363), ('Thursday', 1286), ('Friday', 1237), ('Monday', 1228), ('Wednesday', 1224), ('Sunday', 1147), ('Saturday', 1100), ('since', 354), ('January', 334), ('two', 297)]\n",
      "I-per [('Bush', 820), ('Minister', 468), ('Chavez', 349), ('Abbas', 233), ('Obama', 168), ('Mahmoud', 163), ('Annan', 162), ('Rice', 158), ('Sharon', 152), ('Karzai', 140)]\n",
      "I-gpe [('Serb', 53), ('Cypriot', 21), ('Cypriots', 16), ('States', 14), ('Korea', 11), ('Serbs', 8), ('Lanka', 4), ('American', 4), ('African', 4), ('Republic', 4)]\n",
      "I-tim [('of', 381), ('and', 199), ('-', 184), (',', 174), ('2003', 154), ('century', 120), ('to', 100), ('11', 100), ('2004', 92), ('2008', 92)]\n"
     ]
    }
   ],
   "source": [
    "from collections import Counter\n",
    "tag_word_list=data.groupby(\"Tag\").apply(lambda a :a[\"Word\"].tolist())\n",
    "for i in data[\"Tag\"].unique():\n",
    "  print(i,Counter(tag_word_list[i]).most_common(10))"
   ]
  },
  {
   "cell_type": "markdown",
   "metadata": {
    "colab_type": "text",
    "id": "AXee0LWrsn2h"
   },
   "source": [
    "**Histogram representation of Labels/Classes**\n",
    "\n",
    "---\n",
    "\n"
   ]
  },
  {
   "cell_type": "code",
   "execution_count": 10,
   "metadata": {
    "colab": {
     "base_uri": "https://localhost:8080/",
     "height": 316
    },
    "colab_type": "code",
    "id": "S8Hy417jShR_",
    "outputId": "db69c23a-2a83-4f37-9e80-692106f85212"
   },
   "outputs": [
    {
     "data": {
      "image/png": "[encoded data removed]",
      "text/plain": [
       "<Figure size 1296x360 with 1 Axes>"
      ]
     },
     "metadata": {
      "needs_background": "light",
      "tags": []
     },
     "output_type": "display_data"
    }
   ],
   "source": [
    "data.Tag.value_counts()\n",
    "coun=Counter(\" \".join(data[data[\"Tag\"]!=\"O\"][\"Tag\"]).split())\n",
    "words= [x for x in coun]\n",
    "values= [coun[x] for x in coun]\n",
    "f, ax = plt.subplots(figsize=(18,5))\n",
    "plt.bar(range(len(values)), values, align='center')\n",
    "plt.xticks(range(len(words)), words, rotation='vertical')\n",
    "plt.show()"
   ]
  },
  {
   "cell_type": "markdown",
   "metadata": {
    "colab_type": "text",
    "id": "sfZQv1Wb1mDP"
   },
   "source": [
    "**Sentence Class**\n",
    "\n",
    "---\n",
    "\n"
   ]
  },
  {
   "cell_type": "markdown",
   "metadata": {
    "colab_type": "text",
    "id": "FfoV25Dxujgm"
   },
   "source": [
    "*   ```A Class to get sentences from the DataFrame with POS Tag and Labels.```\n",
    "\n",
    "*   ```Each word will be in the form of tuple ,(Word,POS Tag,Labels).```\n",
    "\n"
   ]
  },
  {
   "cell_type": "code",
   "execution_count": 0,
   "metadata": {
    "colab": {},
    "colab_type": "code",
    "id": "Pau4EzyJDTF4"
   },
   "outputs": [],
   "source": [
    "class sentence(object):\n",
    "    def __init__(self, df):\n",
    "        self.n_sent = 0\n",
    "        self.df = df\n",
    "        agg = lambda s : [(w, p, t) for w, p, t in zip(s['Word'].values.tolist(),\n",
    "                                                       s['POS'].values.tolist(),\n",
    "                                                       s['Tag'].values.tolist())]\n",
    "        self.grouped = self.df.groupby(\"Sentence #\").apply(agg)\n",
    "        self.sentences = [s for s in self.grouped]\n",
    "        \n",
    "    def get_text(self):\n",
    "        try:\n",
    "            s=self.sentences[self.n_sent]\n",
    "            self.n_sent +=1\n",
    "            return s\n",
    "        except:\n",
    "            return None"
   ]
  },
  {
   "cell_type": "code",
   "execution_count": 12,
   "metadata": {
    "colab": {
     "base_uri": "https://localhost:8080/",
     "height": 55
    },
    "colab_type": "code",
    "id": "NKFACW-HDTGD",
    "outputId": "f42408fb-3846-4fd1-945e-958779eb423c"
   },
   "outputs": [
    {
     "name": "stdout",
     "output_type": "stream",
     "text": [
      "[('Thousands', 'NNS', 'O'), ('of', 'IN', 'O'), ('demonstrators', 'NNS', 'O'), ('have', 'VBP', 'O'), ('marched', 'VBN', 'O'), ('through', 'IN', 'O'), ('London', 'NNP', 'B-geo'), ('to', 'TO', 'O'), ('protest', 'VB', 'O'), ('the', 'DT', 'O'), ('war', 'NN', 'O'), ('in', 'IN', 'O'), ('Iraq', 'NNP', 'B-geo'), ('and', 'CC', 'O'), ('demand', 'VB', 'O'), ('the', 'DT', 'O'), ('withdrawal', 'NN', 'O'), ('of', 'IN', 'O'), ('British', 'JJ', 'B-gpe'), ('troops', 'NNS', 'O'), ('from', 'IN', 'O'), ('that', 'DT', 'O'), ('country', 'NN', 'O'), ('.', '.', 'O')]\n"
     ]
    }
   ],
   "source": [
    "getter = sentence(data)\n",
    "print(getter.get_text())\n",
    "# getter.grouped"
   ]
  },
  {
   "cell_type": "markdown",
   "metadata": {
    "colab_type": "text",
    "id": "inqJRAQg0ufY"
   },
   "source": [
    "Getting all the sentences from the data in the above form"
   ]
  },
  {
   "cell_type": "code",
   "execution_count": 0,
   "metadata": {
    "colab": {},
    "colab_type": "code",
    "id": "q_JuxPja0zmB"
   },
   "outputs": [],
   "source": [
    "sentences=getter.sentences"
   ]
  },
  {
   "cell_type": "markdown",
   "metadata": {
    "colab_type": "text",
    "id": "AtSf1KXh8x3i"
   },
   "source": [
    "**Hyperparameter** "
   ]
  },
  {
   "cell_type": "code",
   "execution_count": 0,
   "metadata": {
    "colab": {},
    "colab_type": "code",
    "id": "AtuTReBRf0DK"
   },
   "outputs": [],
   "source": [
    "num_of_epochs = 10\n",
    "max_len = 75 \n",
    "batch_size=32\n",
    "embedding = 40 "
   ]
  },
  {
   "cell_type": "markdown",
   "metadata": {
    "colab_type": "text",
    "id": "m31qbUiR84Cv"
   },
   "source": [
    "**Preparing Inputs**\n",
    "<br>\n",
    "\n",
    "---\n",
    "\n",
    "\n",
    ">```\"word_to_index\" is a dictionary that will map every unique word into an unique integer.```<br>\n",
    ">```The integer 0 is used to represent padded word and 1 is used to represent Unknown/Unseen/New words on test data.```<br><br>\n",
    ">```\"tag_to_index\" is a dictionary which  mas every unique tag into an unique integer.```<br>\n",
    ">```Again,The integer 0 is used to represent tags for padded word```.<br><br>\n",
    ">```\"idx_to_word\" is a dictionary which  mas integers back to original word as in word_to_index.```<br>\n",
    ">```The integer 0 will be converted to \"PAD\" i.e.padded word.```<br>\n",
    ">```The integer 1 will be converted to \"UNK\" i.e.Unknown word.```\n"
   ]
  },
  {
   "cell_type": "code",
   "execution_count": 0,
   "metadata": {
    "colab": {},
    "colab_type": "code",
    "id": "UjMGRkI6f53T"
   },
   "outputs": [],
   "source": [
    "words = list(data['Word'].unique())\n",
    "words = list(data['Word'].unique())\n",
    "tags = list(data['Tag'].unique())\n",
    "\n",
    "\n",
    "word_to_index = {w : i+2 for i, w in enumerate(words)}#0 in padding is different from  word at 0.\n",
    "word_to_index[\"UNK\"] = 1                              #UNK=Unknown Word            \n",
    "word_to_index[\"PAD\"] = 0                              #PAD=Padded Number      \n",
    "\n",
    "tag_to_index = {t : i + 1 for i, t in enumerate(tags)}\n",
    "tag_to_index[\"PAD\"] = 0                                #Padded Word's Tag\n",
    "\n",
    "idx2word = {i: w for w, i in word_to_index.items()}\n",
    "idx2tag = {i: w for w, i in tag_to_index.items()}"
   ]
  },
  {
   "cell_type": "markdown",
   "metadata": {
    "colab_type": "text",
    "id": "QKnUr1ycAGmp"
   },
   "source": [
    "**Sentences into input Sequences**<br>\n",
    ">```word_to_index is used to map each word of sentence to a corresponding integer.```<br>\n",
    ">```pad_sequences will make every sequence to the fixed length by appending zeros at the end.```"
   ]
  },
  {
   "cell_type": "code",
   "execution_count": 0,
   "metadata": {
    "colab": {},
    "colab_type": "code",
    "id": "-KzXVZUTf-q7"
   },
   "outputs": [],
   "source": [
    "# Converting each sentence into list of index from list of tokens\n",
    "X = [[word_to_index[w[0]] for w in s] for s in sentences]\n",
    "\n",
    "# Padding each sequence to have same length  of each word\n",
    "X = pad_sequences(maxlen = max_len, sequences = X, padding = \"post\", value = 0)"
   ]
  },
  {
   "cell_type": "markdown",
   "metadata": {
    "colab_type": "text",
    "id": "Vdb39G-BA0fH"
   },
   "source": [
    "**Output Tag to MultiClass Output Tag Sequence**<br>\n",
    ">```tag_to_index is used to map tag to integer.```<br>\n",
    ">```pad_sequences is used make all output sequences of fixed length as Input Sequences.```<br>\n",
    ">```to_categorical converts the output sequence to multi class output.```<br>\n",
    ">```For each word, We have output sequence where output can be any of 18 tags.``` "
   ]
  },
  {
   "cell_type": "code",
   "execution_count": 0,
   "metadata": {
    "colab": {},
    "colab_type": "code",
    "id": "2AjUnhTYf_ew"
   },
   "outputs": [],
   "source": [
    "y = [[tag_to_index[w[2]] for w in s] for s in sentences]\n",
    "\n",
    "y = pad_sequences(maxlen = max_len, sequences = y, padding = \"post\", value = 0)\n",
    "\n",
    "num_tag = data['Tag'].nunique()\n",
    "y = [to_categorical(i, num_classes = num_tag+1) for i in y]"
   ]
  },
  {
   "cell_type": "code",
   "execution_count": 0,
   "metadata": {
    "colab": {},
    "colab_type": "code",
    "id": "zu7l26NvgGF2"
   },
   "outputs": [],
   "source": [
    "X_train, X_test, y_train, y_test = train_test_split(X, y, test_size = 0.15)"
   ]
  },
  {
   "cell_type": "code",
   "execution_count": 19,
   "metadata": {
    "colab": {
     "base_uri": "https://localhost:8080/",
     "height": 90
    },
    "colab_type": "code",
    "id": "gSRCVBKngIB7",
    "outputId": "68530b16-b507-434c-edfa-21e22963f6ab"
   },
   "outputs": [
    {
     "name": "stdout",
     "output_type": "stream",
     "text": [
      "Size of training input data :  (40765, 75)\n",
      "Size of training output data :  (40765, 75, 12)\n",
      "Size of testing input data :  (7194, 75)\n",
      "Size of testing output data :  (7194, 75, 12)\n"
     ]
    }
   ],
   "source": [
    "print(\"Size of training input data : \", X_train.shape)\n",
    "print(\"Size of training output data : \", np.array(y_train).shape)\n",
    "print(\"Size of testing input data : \", X_test.shape)\n",
    "print(\"Size of testing output data : \", np.array(y_test).shape)"
   ]
  },
  {
   "cell_type": "markdown",
   "metadata": {
    "colab_type": "text",
    "id": "YQGWoL4bMMxC"
   },
   "source": [
    "```Sentence before and after processing.```\n"
   ]
  },
  {
   "cell_type": "code",
   "execution_count": 20,
   "metadata": {
    "colab": {
     "base_uri": "https://localhost:8080/",
     "height": 255
    },
    "colab_type": "code",
    "id": "MGIdeWjMgLju",
    "outputId": "770224d5-ab57-4ac6-ce4f-1b8ea5cbef23"
   },
   "outputs": [
    {
     "name": "stdout",
     "output_type": "stream",
     "text": [
      "*****Before Processing  sentence : *****\n",
      " [('The', 'DT', 'O'), ('global', 'JJ', 'O'), ('financial', 'JJ', 'O'), ('crisis', 'NN', 'O'), ('has', 'VBZ', 'O'), ('left', 'VBN', 'O'), ('Iceland', 'NNP', 'B-org'), (\"'s\", 'POS', 'O'), ('economy', 'NN', 'O'), ('in', 'IN', 'O'), ('shambles', 'NNS', 'O'), ('.', '.', 'O')] \n",
      " The global financial crisis has left Iceland 's economy in shambles .\n",
      "\n",
      "*****After Processing Input sequence : *****\n",
      "  [ 4193 15087   570   504    80   602    11  1181     9   951  2573  3229\n",
      "    21   160  4440    11  1699  1244  2181     9  7648    47  8249     9\n",
      " 10265 10266    95    30  5220   324   876    33   982   645  6659    65\n",
      "   498 10268  1490    23     0     0     0     0     0     0     0     0\n",
      "     0     0     0     0     0     0     0     0     0     0     0     0\n",
      "     0     0     0     0     0     0     0     0     0     0     0     0\n",
      "     0     0     0]\n"
     ]
    }
   ],
   "source": [
    "print('*****Before Processing  sentence : *****\\n',sentences[14],\"\\n\" ,' '.join([w[0] for w in sentences[14]]))\n",
    "print('\\n*****After Processing Input sequence : *****\\n ', X_train[14])"
   ]
  },
  {
   "cell_type": "markdown",
   "metadata": {
    "colab_type": "text",
    "id": "h4q7J0wbMH8E"
   },
   "source": [
    "```Labels before and after processing```"
   ]
  },
  {
   "cell_type": "code",
   "execution_count": 21,
   "metadata": {
    "colab": {
     "base_uri": "https://localhost:8080/",
     "height": 1000
    },
    "colab_type": "code",
    "id": "NiQ35khYgPuI",
    "outputId": "35cf8d59-29f7-409b-df31-6e61dcc2a322"
   },
   "outputs": [
    {
     "name": "stdout",
     "output_type": "stream",
     "text": [
      "*****Before Processing output : *****\n",
      " O O O O O O B-org O O O O O\n",
      "\n",
      "*****After Processing output sequence : *****\n",
      "  [[0. 1. 0. 0. 0. 0. 0. 0. 0. 0. 0. 0.]\n",
      " [0. 1. 0. 0. 0. 0. 0. 0. 0. 0. 0. 0.]\n",
      " [0. 1. 0. 0. 0. 0. 0. 0. 0. 0. 0. 0.]\n",
      " [0. 1. 0. 0. 0. 0. 0. 0. 0. 0. 0. 0.]\n",
      " [0. 1. 0. 0. 0. 0. 0. 0. 0. 0. 0. 0.]\n",
      " [0. 1. 0. 0. 0. 0. 0. 0. 0. 0. 0. 0.]\n",
      " [0. 0. 0. 0. 0. 0. 1. 0. 0. 0. 0. 0.]\n",
      " [0. 1. 0. 0. 0. 0. 0. 0. 0. 0. 0. 0.]\n",
      " [0. 1. 0. 0. 0. 0. 0. 0. 0. 0. 0. 0.]\n",
      " [0. 1. 0. 0. 0. 0. 0. 0. 0. 0. 0. 0.]\n",
      " [0. 1. 0. 0. 0. 0. 0. 0. 0. 0. 0. 0.]\n",
      " [0. 1. 0. 0. 0. 0. 0. 0. 0. 0. 0. 0.]\n",
      " [1. 0. 0. 0. 0. 0. 0. 0. 0. 0. 0. 0.]\n",
      " [1. 0. 0. 0. 0. 0. 0. 0. 0. 0. 0. 0.]\n",
      " [1. 0. 0. 0. 0. 0. 0. 0. 0. 0. 0. 0.]\n",
      " [1. 0. 0. 0. 0. 0. 0. 0. 0. 0. 0. 0.]\n",
      " [1. 0. 0. 0. 0. 0. 0. 0. 0. 0. 0. 0.]\n",
      " [1. 0. 0. 0. 0. 0. 0. 0. 0. 0. 0. 0.]\n",
      " [1. 0. 0. 0. 0. 0. 0. 0. 0. 0. 0. 0.]\n",
      " [1. 0. 0. 0. 0. 0. 0. 0. 0. 0. 0. 0.]\n",
      " [1. 0. 0. 0. 0. 0. 0. 0. 0. 0. 0. 0.]\n",
      " [1. 0. 0. 0. 0. 0. 0. 0. 0. 0. 0. 0.]\n",
      " [1. 0. 0. 0. 0. 0. 0. 0. 0. 0. 0. 0.]\n",
      " [1. 0. 0. 0. 0. 0. 0. 0. 0. 0. 0. 0.]\n",
      " [1. 0. 0. 0. 0. 0. 0. 0. 0. 0. 0. 0.]\n",
      " [1. 0. 0. 0. 0. 0. 0. 0. 0. 0. 0. 0.]\n",
      " [1. 0. 0. 0. 0. 0. 0. 0. 0. 0. 0. 0.]\n",
      " [1. 0. 0. 0. 0. 0. 0. 0. 0. 0. 0. 0.]\n",
      " [1. 0. 0. 0. 0. 0. 0. 0. 0. 0. 0. 0.]\n",
      " [1. 0. 0. 0. 0. 0. 0. 0. 0. 0. 0. 0.]\n",
      " [1. 0. 0. 0. 0. 0. 0. 0. 0. 0. 0. 0.]\n",
      " [1. 0. 0. 0. 0. 0. 0. 0. 0. 0. 0. 0.]\n",
      " [1. 0. 0. 0. 0. 0. 0. 0. 0. 0. 0. 0.]\n",
      " [1. 0. 0. 0. 0. 0. 0. 0. 0. 0. 0. 0.]\n",
      " [1. 0. 0. 0. 0. 0. 0. 0. 0. 0. 0. 0.]\n",
      " [1. 0. 0. 0. 0. 0. 0. 0. 0. 0. 0. 0.]\n",
      " [1. 0. 0. 0. 0. 0. 0. 0. 0. 0. 0. 0.]\n",
      " [1. 0. 0. 0. 0. 0. 0. 0. 0. 0. 0. 0.]\n",
      " [1. 0. 0. 0. 0. 0. 0. 0. 0. 0. 0. 0.]\n",
      " [1. 0. 0. 0. 0. 0. 0. 0. 0. 0. 0. 0.]\n",
      " [1. 0. 0. 0. 0. 0. 0. 0. 0. 0. 0. 0.]\n",
      " [1. 0. 0. 0. 0. 0. 0. 0. 0. 0. 0. 0.]\n",
      " [1. 0. 0. 0. 0. 0. 0. 0. 0. 0. 0. 0.]\n",
      " [1. 0. 0. 0. 0. 0. 0. 0. 0. 0. 0. 0.]\n",
      " [1. 0. 0. 0. 0. 0. 0. 0. 0. 0. 0. 0.]\n",
      " [1. 0. 0. 0. 0. 0. 0. 0. 0. 0. 0. 0.]\n",
      " [1. 0. 0. 0. 0. 0. 0. 0. 0. 0. 0. 0.]\n",
      " [1. 0. 0. 0. 0. 0. 0. 0. 0. 0. 0. 0.]\n",
      " [1. 0. 0. 0. 0. 0. 0. 0. 0. 0. 0. 0.]\n",
      " [1. 0. 0. 0. 0. 0. 0. 0. 0. 0. 0. 0.]\n",
      " [1. 0. 0. 0. 0. 0. 0. 0. 0. 0. 0. 0.]\n",
      " [1. 0. 0. 0. 0. 0. 0. 0. 0. 0. 0. 0.]\n",
      " [1. 0. 0. 0. 0. 0. 0. 0. 0. 0. 0. 0.]\n",
      " [1. 0. 0. 0. 0. 0. 0. 0. 0. 0. 0. 0.]\n",
      " [1. 0. 0. 0. 0. 0. 0. 0. 0. 0. 0. 0.]\n",
      " [1. 0. 0. 0. 0. 0. 0. 0. 0. 0. 0. 0.]\n",
      " [1. 0. 0. 0. 0. 0. 0. 0. 0. 0. 0. 0.]\n",
      " [1. 0. 0. 0. 0. 0. 0. 0. 0. 0. 0. 0.]\n",
      " [1. 0. 0. 0. 0. 0. 0. 0. 0. 0. 0. 0.]\n",
      " [1. 0. 0. 0. 0. 0. 0. 0. 0. 0. 0. 0.]\n",
      " [1. 0. 0. 0. 0. 0. 0. 0. 0. 0. 0. 0.]\n",
      " [1. 0. 0. 0. 0. 0. 0. 0. 0. 0. 0. 0.]\n",
      " [1. 0. 0. 0. 0. 0. 0. 0. 0. 0. 0. 0.]\n",
      " [1. 0. 0. 0. 0. 0. 0. 0. 0. 0. 0. 0.]\n",
      " [1. 0. 0. 0. 0. 0. 0. 0. 0. 0. 0. 0.]\n",
      " [1. 0. 0. 0. 0. 0. 0. 0. 0. 0. 0. 0.]\n",
      " [1. 0. 0. 0. 0. 0. 0. 0. 0. 0. 0. 0.]\n",
      " [1. 0. 0. 0. 0. 0. 0. 0. 0. 0. 0. 0.]\n",
      " [1. 0. 0. 0. 0. 0. 0. 0. 0. 0. 0. 0.]\n",
      " [1. 0. 0. 0. 0. 0. 0. 0. 0. 0. 0. 0.]\n",
      " [1. 0. 0. 0. 0. 0. 0. 0. 0. 0. 0. 0.]\n",
      " [1. 0. 0. 0. 0. 0. 0. 0. 0. 0. 0. 0.]\n",
      " [1. 0. 0. 0. 0. 0. 0. 0. 0. 0. 0. 0.]\n",
      " [1. 0. 0. 0. 0. 0. 0. 0. 0. 0. 0. 0.]\n",
      " [1. 0. 0. 0. 0. 0. 0. 0. 0. 0. 0. 0.]] \n",
      "\n",
      "\n",
      "Getting padded output sequence from output sequence\n",
      "['O', 'O', 'O', 'O', 'O', 'O', 'B-org', 'O', 'O', 'O', 'O', 'O', 'PAD', 'PAD', 'PAD', 'PAD', 'PAD', 'PAD', 'PAD', 'PAD', 'PAD', 'PAD', 'PAD', 'PAD', 'PAD', 'PAD', 'PAD', 'PAD', 'PAD', 'PAD', 'PAD', 'PAD', 'PAD', 'PAD', 'PAD', 'PAD', 'PAD', 'PAD', 'PAD', 'PAD', 'PAD', 'PAD', 'PAD', 'PAD', 'PAD', 'PAD', 'PAD', 'PAD', 'PAD', 'PAD', 'PAD', 'PAD', 'PAD', 'PAD', 'PAD', 'PAD', 'PAD', 'PAD', 'PAD', 'PAD', 'PAD', 'PAD', 'PAD', 'PAD', 'PAD', 'PAD', 'PAD', 'PAD', 'PAD', 'PAD', 'PAD', 'PAD', 'PAD', 'PAD', 'PAD']\n"
     ]
    }
   ],
   "source": [
    "print('*****Before Processing output : *****\\n', ' '.join([w[2] for w in sentences[14]]))\n",
    "print('\\n*****After Processing output sequence : *****\\n ', y[14],\"\\n\")\n",
    "print(\"\\nGetting padded output sequence from output sequence\")\n",
    "print([idx2tag[np.argmax(x)] for x in y[14]])"
   ]
  },
  {
   "cell_type": "markdown",
   "metadata": {
    "colab_type": "text",
    "id": "zaXlD12EPmah"
   },
   "source": [
    "**Model**<br>\n",
    "```A Sequential model that processes sequences of integers.```<br>\n",
    ">```Embedding Layer embeds each integer into a 100-dimensional vector,```<br>\n",
    ">```then sequence of vectors are processed using LSTM layer.```<br>\n",
    ">```LSTM process each word one by one and output something (the state) at each step(after each word processed).```<br>\n",
    ">```Dense Layer Transforms the information coming from LSTM for each word into 12 classes.```"
   ]
  },
  {
   "cell_type": "code",
   "execution_count": 93,
   "metadata": {
    "colab": {
     "base_uri": "https://localhost:8080/",
     "height": 746
    },
    "colab_type": "code",
    "id": "39JTI9q_gSfE",
    "outputId": "9532b2dd-e6f8-4095-992f-e3a0e12be48a"
   },
   "outputs": [
    {
     "name": "stderr",
     "output_type": "stream",
     "text": [
      "/usr/local/lib/python3.6/dist-packages/ipykernel_launcher.py:3: UserWarning: Update your `LSTM` call to the Keras 2 API: `LSTM(100, return_sequences=True, dropout=0.5, recurrent_dropout=0.5)`\n",
      "  This is separate from the ipykernel package so we can avoid doing imports until\n"
     ]
    },
    {
     "name": "stdout",
     "output_type": "stream",
     "text": [
      "Model: \"sequential_3\"\n",
      "_________________________________________________________________\n",
      "Layer (type)                 Output Shape              Param #   \n",
      "=================================================================\n",
      "embedding_3 (Embedding)      (None, 75, 50)            1759000   \n",
      "_________________________________________________________________\n",
      "lstm_3 (LSTM)                (None, 75, 100)           60400     \n",
      "_________________________________________________________________\n",
      "dense_3 (Dense)              (None, 75, 12)            1212      \n",
      "=================================================================\n",
      "Total params: 1,820,612\n",
      "Trainable params: 1,820,612\n",
      "Non-trainable params: 0\n",
      "_________________________________________________________________\n"
     ]
    },
    {
     "name": "stderr",
     "output_type": "stream",
     "text": [
      "/usr/local/lib/python3.6/dist-packages/tensorflow/python/framework/indexed_slices.py:434: UserWarning: Converting sparse IndexedSlices to a dense Tensor of unknown shape. This may consume a large amount of memory.\n",
      "  \"Converting sparse IndexedSlices to a dense Tensor of unknown shape. \"\n"
     ]
    },
    {
     "name": "stdout",
     "output_type": "stream",
     "text": [
      "Train on 28535 samples, validate on 12230 samples\n",
      "Epoch 1/10\n",
      "28535/28535 [==============================] - 92s 3ms/step - loss: 0.2456 - accuracy: 0.9436 - val_loss: 0.0993 - val_accuracy: 0.9708\n",
      "Epoch 2/10\n",
      "28535/28535 [==============================] - 92s 3ms/step - loss: 0.0750 - accuracy: 0.9797 - val_loss: 0.0532 - val_accuracy: 0.9863\n",
      "Epoch 3/10\n",
      "28535/28535 [==============================] - 92s 3ms/step - loss: 0.0453 - accuracy: 0.9877 - val_loss: 0.0424 - val_accuracy: 0.9878\n",
      "Epoch 4/10\n",
      "28535/28535 [==============================] - 90s 3ms/step - loss: 0.0361 - accuracy: 0.9894 - val_loss: 0.0392 - val_accuracy: 0.9883\n",
      "Epoch 5/10\n",
      "28535/28535 [==============================] - 90s 3ms/step - loss: 0.0317 - accuracy: 0.9903 - val_loss: 0.0380 - val_accuracy: 0.9885\n",
      "Epoch 6/10\n",
      "28535/28535 [==============================] - 91s 3ms/step - loss: 0.0290 - accuracy: 0.9909 - val_loss: 0.0372 - val_accuracy: 0.9887\n",
      "Epoch 7/10\n",
      "28535/28535 [==============================] - 92s 3ms/step - loss: 0.0271 - accuracy: 0.9913 - val_loss: 0.0365 - val_accuracy: 0.9888\n",
      "Epoch 8/10\n",
      "28535/28535 [==============================] - 92s 3ms/step - loss: 0.0258 - accuracy: 0.9916 - val_loss: 0.0367 - val_accuracy: 0.9888\n",
      "Epoch 9/10\n",
      "28535/28535 [==============================] - 92s 3ms/step - loss: 0.0247 - accuracy: 0.9919 - val_loss: 0.0367 - val_accuracy: 0.9888\n",
      "Epoch 10/10\n",
      "28535/28535 [==============================] - 92s 3ms/step - loss: 0.0238 - accuracy: 0.9922 - val_loss: 0.0372 - val_accuracy: 0.9887\n"
     ]
    }
   ],
   "source": [
    "model = Sequential()\n",
    "model.add(Embedding(len(words)+2,50,input_length=max_len))\n",
    "model.add(LSTM(100,return_sequences=True, dropout_U = 0.5, dropout_W = 0.5))\n",
    "model.add(Dense(len(tags)+1,activation='softmax'))\n",
    "model.compile(loss = 'categorical_crossentropy', optimizer='adam',metrics = ['accuracy'])\n",
    "model.summary()\n",
    "history = model.fit(X_train, np.array(y_train), batch_size=batch_size, epochs=num_of_epochs,\n",
    "                    validation_split=0.3)"
   ]
  },
  {
   "cell_type": "markdown",
   "metadata": {
    "colab_type": "text",
    "id": "1H-_lcB1QX83"
   },
   "source": [
    "\n",
    "\n",
    "```\n",
    "Training and validation accuracy\n",
    "```\n",
    "\n"
   ]
  },
  {
   "cell_type": "code",
   "execution_count": 94,
   "metadata": {
    "colab": {
     "base_uri": "https://localhost:8080/",
     "height": 517
    },
    "colab_type": "code",
    "id": "0tTZINqWKbNT",
    "outputId": "02bcac65-aed1-4a1f-f73b-6a85316f5182"
   },
   "outputs": [
    {
     "data": {
      "text/plain": [
       "<matplotlib.legend.Legend at 0x7f0908be7eb8>"
      ]
     },
     "execution_count": 94,
     "metadata": {
      "tags": []
     },
     "output_type": "execute_result"
    },
    {
     "data": {
      "image/png": "[encoded data removed]",
      "text/plain": [
       "<Figure size 576x576 with 1 Axes>"
      ]
     },
     "metadata": {
      "needs_background": "light",
      "tags": []
     },
     "output_type": "display_data"
    }
   ],
   "source": [
    "acc = history.history['accuracy']\n",
    "val_acc = history.history['val_accuracy']\n",
    "plt.figure(figsize = (8, 8))\n",
    "epochs = range(1, len(acc) + 1)\n",
    "plt.plot(epochs, acc, 'b', label='Training acc')\n",
    "plt.plot(epochs, val_acc, 'g', label='Validation acc')\n",
    "plt.title('Training and validation accuracy')\n",
    "plt.legend()"
   ]
  },
  {
   "cell_type": "markdown",
   "metadata": {
    "colab_type": "text",
    "id": "qy9zJHg3aVqy"
   },
   "source": [
    "It can be observed that after 3 epochs , the model started overfitting as the separation between training accuracy and validation accuracy started increasing after 3rd epoch."
   ]
  },
  {
   "cell_type": "markdown",
   "metadata": {
    "colab_type": "text",
    "id": "0Y9T-NAuQSAi"
   },
   "source": [
    "\n",
    "\n",
    "```\n",
    "Training and validation loss\n",
    "```\n",
    "\n"
   ]
  },
  {
   "cell_type": "code",
   "execution_count": 95,
   "metadata": {
    "colab": {
     "base_uri": "https://localhost:8080/",
     "height": 517
    },
    "colab_type": "code",
    "id": "HYg2O8psQC1E",
    "outputId": "c2401e8b-6c43-45d0-d9fb-98bed82a0e17"
   },
   "outputs": [
    {
     "data": {
      "text/plain": [
       "<matplotlib.legend.Legend at 0x7f08ff18b780>"
      ]
     },
     "execution_count": 95,
     "metadata": {
      "tags": []
     },
     "output_type": "execute_result"
    },
    {
     "data": {
      "image/png": "[encoded data removed]",
      "text/plain": [
       "<Figure size 576x576 with 1 Axes>"
      ]
     },
     "metadata": {
      "needs_background": "light",
      "tags": []
     },
     "output_type": "display_data"
    }
   ],
   "source": [
    "plt.figure(figsize = (8, 8))\n",
    "loss = history.history['loss']\n",
    "val_loss = history.history['val_loss']\n",
    "plt.plot(epochs, loss, 'b', label='Training loss')\n",
    "plt.plot(epochs, val_loss, 'g', label='Validation loss')\n",
    "plt.title('Training and validation loss')\n",
    "plt.legend()"
   ]
  },
  {
   "cell_type": "markdown",
   "metadata": {
    "colab_type": "text",
    "id": "3PLzzW3S6jeG"
   },
   "source": [
    "Again It can be observed that after 3 epochs , the model started overfitting as the separation between training loss kept on decreasing but validation loss did not show much changes."
   ]
  },
  {
   "cell_type": "code",
   "execution_count": 96,
   "metadata": {
    "colab": {
     "base_uri": "https://localhost:8080/",
     "height": 363
    },
    "colab_type": "code",
    "id": "j_y2Jvm7gTBq",
    "outputId": "06ff82bb-c52f-424b-de28-0038f5c130fc"
   },
   "outputs": [
    {
     "name": "stdout",
     "output_type": "stream",
     "text": [
      "              precision    recall  f1-score   support\n",
      "\n",
      "       B-geo       0.83      0.85      0.84      5625\n",
      "       B-gpe       0.94      0.94      0.94      2459\n",
      "       B-org       0.68      0.63      0.65      3070\n",
      "       B-per       0.83      0.79      0.81      2632\n",
      "       B-tim       0.91      0.82      0.86      2989\n",
      "       I-geo       0.82      0.75      0.78      1081\n",
      "       I-gpe       1.00      0.56      0.72        25\n",
      "       I-org       0.78      0.74      0.76      2601\n",
      "       I-per       0.85      0.84      0.85      2711\n",
      "       I-tim       0.81      0.68      0.74       968\n",
      "           O       0.98      0.99      0.99    133320\n",
      "         PAD       1.00      1.00      1.00    382069\n",
      "\n",
      "    accuracy                           0.99    539550\n",
      "   macro avg       0.87      0.80      0.83    539550\n",
      "weighted avg       0.99      0.99      0.99    539550\n",
      "\n"
     ]
    }
   ],
   "source": [
    "y_pred = model.predict(X_test)\n",
    "y_pred = np.argmax(y_pred, axis=-1)\n",
    "y_test_true = np.argmax(y_test, -1)\n",
    "y_pred = [[idx2tag[i] for i in row] for row in y_pred]\n",
    "y_test_true = [[idx2tag[i] for i in row] for row in y_test_true] \n",
    "report = flat_classification_report(y_pred=y_pred, y_true=y_test_true)\n",
    "print(report)"
   ]
  },
  {
   "cell_type": "markdown",
   "metadata": {
    "colab_type": "text",
    "id": "y6w-T85EAiA0"
   },
   "source": [
    "\n",
    "*   Precision of 1 means number of False Positive = 0.\n",
    "*   Recall of 1 means number of False Negative = 0.\n",
    "*   I-gpe has precision = 1, means when the model predicts \"I-gpe\".Hence, it must be the \"I-gpe\" tag.\n",
    "<br>This inference can also be used to predict \"B-gpe\". \n",
    "*   But I-gpe has recall = .56, means when the model predicts any tag other than \"I-gpe\" , it still can be the \"I-gpe\" tag.\n",
    "*   LSTM is able to achieve  a precision of 1 for few tags, which **CRF** model could not.\n",
    "*   The \"support\" indicates number of obervations correspondingly which is very less for \"I-gpe\".<br>Hence, accuracy is very less for this Tag.\n",
    "\n"
   ]
  },
  {
   "cell_type": "code",
   "execution_count": 30,
   "metadata": {
    "colab": {
     "base_uri": "https://localhost:8080/",
     "height": 72
    },
    "colab_type": "code",
    "id": "1j19FL2WgS9L",
    "outputId": "a1a35384-afbe-4abb-b92a-c7fdd4a19bf5"
   },
   "outputs": [
    {
     "name": "stdout",
     "output_type": "stream",
     "text": [
      "(None, 75, 100)\n",
      "(None, 75, 120)\n",
      "(None, 75, 12)\n"
     ]
    }
   ],
   "source": [
    "print(model.layers[0].output.shape)\n",
    "print(model.layers[1].output.shape)\n",
    "print(model.layers[2].output.shape)"
   ]
  },
  {
   "cell_type": "markdown",
   "metadata": {
    "colab_type": "text",
    "id": "sLQcBrGWEx6m"
   },
   "source": [
    "**BI Directional LSTM**\n",
    ">```It is a type of LSTM which learns from the input sequence from both forward and backward directions.```<br>\n",
    ">```Bidirectional will copy the RNN layer passed in, and flip the go_backwards field of the newly copied layer, so that it will process the inputs in reverse order.```<br>\n",
    ">```The output of the Bidirectional RNN will be, by default, the concatenation of the forward layer output and the backward layer output.```<br>\n",
    ">```Bi-LSTM process each word one by one and output something (the state) at each step(after each word processed) for both forward and backward sequences.```<br>\n",
    ">```Dense Layer Transforms the information coming from LSTM for each word into 12 classes as Dense is default applied to only last dimension.```"
   ]
  },
  {
   "cell_type": "code",
   "execution_count": 31,
   "metadata": {
    "colab": {
     "base_uri": "https://localhost:8080/",
     "height": 746
    },
    "colab_type": "code",
    "id": "2QxK4WbhgYEA",
    "outputId": "94c80d09-2b60-4cb2-e171-83c8b3ce60f7"
   },
   "outputs": [
    {
     "name": "stderr",
     "output_type": "stream",
     "text": [
      "/usr/local/lib/python3.6/dist-packages/ipykernel_launcher.py:3: UserWarning: Update your `LSTM` call to the Keras 2 API: `LSTM(units=100, return_sequences=True, dropout=0.5, recurrent_dropout=0.5)`\n",
      "  This is separate from the ipykernel package so we can avoid doing imports until\n"
     ]
    },
    {
     "name": "stdout",
     "output_type": "stream",
     "text": [
      "Model: \"sequential_2\"\n",
      "_________________________________________________________________\n",
      "Layer (type)                 Output Shape              Param #   \n",
      "=================================================================\n",
      "embedding_2 (Embedding)      (None, 75, 50)            1759000   \n",
      "_________________________________________________________________\n",
      "bidirectional_1 (Bidirection (None, 75, 200)           120800    \n",
      "_________________________________________________________________\n",
      "dense_2 (Dense)              (None, 75, 12)            2412      \n",
      "=================================================================\n",
      "Total params: 1,882,212\n",
      "Trainable params: 1,882,212\n",
      "Non-trainable params: 0\n",
      "_________________________________________________________________\n"
     ]
    },
    {
     "name": "stderr",
     "output_type": "stream",
     "text": [
      "/usr/local/lib/python3.6/dist-packages/tensorflow/python/framework/indexed_slices.py:434: UserWarning: Converting sparse IndexedSlices to a dense Tensor of unknown shape. This may consume a large amount of memory.\n",
      "  \"Converting sparse IndexedSlices to a dense Tensor of unknown shape. \"\n"
     ]
    },
    {
     "name": "stdout",
     "output_type": "stream",
     "text": [
      "Train on 28535 samples, validate on 12230 samples\n",
      "Epoch 1/10\n",
      "28535/28535 [==============================] - 146s 5ms/step - loss: 0.1947 - accuracy: 0.9524 - val_loss: 0.0785 - val_accuracy: 0.9777\n",
      "Epoch 2/10\n",
      "28535/28535 [==============================] - 147s 5ms/step - loss: 0.0550 - accuracy: 0.9843 - val_loss: 0.0411 - val_accuracy: 0.9878\n",
      "Epoch 3/10\n",
      "28535/28535 [==============================] - 147s 5ms/step - loss: 0.0343 - accuracy: 0.9898 - val_loss: 0.0357 - val_accuracy: 0.9893\n",
      "Epoch 4/10\n",
      "28535/28535 [==============================] - 147s 5ms/step - loss: 0.0278 - accuracy: 0.9916 - val_loss: 0.0342 - val_accuracy: 0.9898\n",
      "Epoch 5/10\n",
      "28535/28535 [==============================] - 147s 5ms/step - loss: 0.0244 - accuracy: 0.9924 - val_loss: 0.0328 - val_accuracy: 0.9902\n",
      "Epoch 6/10\n",
      "28535/28535 [==============================] - 147s 5ms/step - loss: 0.0221 - accuracy: 0.9930 - val_loss: 0.0327 - val_accuracy: 0.9902\n",
      "Epoch 7/10\n",
      "28535/28535 [==============================] - 148s 5ms/step - loss: 0.0205 - accuracy: 0.9935 - val_loss: 0.0322 - val_accuracy: 0.9904\n",
      "Epoch 8/10\n",
      "28535/28535 [==============================] - 147s 5ms/step - loss: 0.0192 - accuracy: 0.9938 - val_loss: 0.0323 - val_accuracy: 0.9903\n",
      "Epoch 9/10\n",
      "28535/28535 [==============================] - 147s 5ms/step - loss: 0.0181 - accuracy: 0.9941 - val_loss: 0.0332 - val_accuracy: 0.9904\n",
      "Epoch 10/10\n",
      "28535/28535 [==============================] - 147s 5ms/step - loss: 0.0172 - accuracy: 0.9944 - val_loss: 0.0331 - val_accuracy: 0.9904\n"
     ]
    }
   ],
   "source": [
    "model_bi_lstm=Sequential()\n",
    "model_bi_lstm.add(Embedding(input_dim = len(words) + 2, output_dim = 50,input_length=max_len))\n",
    "model_bi_lstm.add(Bidirectional(LSTM(units = 100, return_sequences=True,dropout_U = 0.5, dropout_W = 0.5)))\n",
    "model_bi_lstm.add(Dense(len(tags)+1, activation=\"softmax\"))\n",
    "model_bi_lstm.compile(optimizer=\"adam\", loss=\"categorical_crossentropy\", metrics=['accuracy'])\n",
    "model_bi_lstm.summary()\n",
    "history = model_bi_lstm.fit(X_train, np.array(y_train), batch_size=batch_size, epochs=num_of_epochs,\n",
    "                    validation_split=0.3)"
   ]
  },
  {
   "cell_type": "markdown",
   "metadata": {
    "colab_type": "text",
    "id": "G6kaNIBuQyTk"
   },
   "source": [
    "\n",
    "\n",
    "```Training and validation accuracy```\n",
    "\n"
   ]
  },
  {
   "cell_type": "code",
   "execution_count": 32,
   "metadata": {
    "colab": {
     "base_uri": "https://localhost:8080/",
     "height": 517
    },
    "colab_type": "code",
    "id": "7Fv162CvKisu",
    "outputId": "942165aa-4f3b-4cb1-cbbc-c55f3d162eb1"
   },
   "outputs": [
    {
     "data": {
      "text/plain": [
       "<matplotlib.legend.Legend at 0x7f08fe026518>"
      ]
     },
     "execution_count": 32,
     "metadata": {
      "tags": []
     },
     "output_type": "execute_result"
    },
    {
     "data": {
      "image/png": "[encoded data removed]",
      "text/plain": [
       "<Figure size 576x576 with 1 Axes>"
      ]
     },
     "metadata": {
      "needs_background": "light",
      "tags": []
     },
     "output_type": "display_data"
    }
   ],
   "source": [
    "acc = history.history['accuracy']\n",
    "val_acc = history.history['val_accuracy']\n",
    "plt.figure(figsize = (8, 8))\n",
    "epochs = range(1, len(acc) + 1)\n",
    "plt.plot(epochs, acc, 'b', label='Training acc')\n",
    "plt.plot(epochs, val_acc, 'g', label='Validation acc')\n",
    "plt.title('Training and validation accuracy')\n",
    "plt.legend()"
   ]
  },
  {
   "cell_type": "markdown",
   "metadata": {
    "colab_type": "text",
    "id": "obQCauLV7ERx"
   },
   "source": [
    "It can be observed that after 3 epochs , the model started overfitting as the separation between training accuracy and validation accuracy started increasing after 3rd epoch. <br>\n",
    "Also,\n",
    "within the 3 epochs , Bi -LSTM model is able to achieve higher accuracy than simple LSTM.\n",
    "<br>But it also took more time to process the sequences.\n"
   ]
  },
  {
   "cell_type": "markdown",
   "metadata": {
    "colab_type": "text",
    "id": "z7aL446yQrQJ"
   },
   "source": [
    "\n",
    "\n",
    "```Training and validation loss```\n",
    "\n"
   ]
  },
  {
   "cell_type": "code",
   "execution_count": 33,
   "metadata": {
    "colab": {
     "base_uri": "https://localhost:8080/",
     "height": 517
    },
    "colab_type": "code",
    "id": "fz_oGPinQryz",
    "outputId": "881879b0-37bc-420c-a671-209f4404089d"
   },
   "outputs": [
    {
     "data": {
      "text/plain": [
       "<matplotlib.legend.Legend at 0x7f08fe010898>"
      ]
     },
     "execution_count": 33,
     "metadata": {
      "tags": []
     },
     "output_type": "execute_result"
    },
    {
     "data": {
      "image/png": "[encoded data removed]",
      "text/plain": [
       "<Figure size 576x576 with 1 Axes>"
      ]
     },
     "metadata": {
      "needs_background": "light",
      "tags": []
     },
     "output_type": "display_data"
    }
   ],
   "source": [
    "loss = history.history['loss']\n",
    "val_loss = history.history['val_loss']\n",
    "plt.figure(figsize = (8, 8))\n",
    "plt.plot(epochs, loss, 'b', label='Training loss')\n",
    "plt.plot(epochs, val_loss, 'g', label='Validation loss')\n",
    "plt.title('Training and validation loss')\n",
    "plt.legend()"
   ]
  },
  {
   "cell_type": "code",
   "execution_count": 34,
   "metadata": {
    "colab": {
     "base_uri": "https://localhost:8080/",
     "height": 363
    },
    "colab_type": "code",
    "id": "0UYeUKKPgYKM",
    "outputId": "f345d427-5ed9-4c59-a725-c66141c90f20"
   },
   "outputs": [
    {
     "name": "stdout",
     "output_type": "stream",
     "text": [
      "              precision    recall  f1-score   support\n",
      "\n",
      "       B-geo       0.85      0.88      0.87      5625\n",
      "       B-gpe       0.95      0.94      0.94      2459\n",
      "       B-org       0.79      0.69      0.74      3070\n",
      "       B-per       0.84      0.79      0.81      2632\n",
      "       B-tim       0.91      0.88      0.89      2989\n",
      "       I-geo       0.78      0.80      0.79      1081\n",
      "       I-gpe       1.00      0.56      0.72        25\n",
      "       I-org       0.78      0.78      0.78      2601\n",
      "       I-per       0.85      0.83      0.84      2711\n",
      "       I-tim       0.84      0.74      0.79       968\n",
      "           O       0.99      0.99      0.99    133320\n",
      "         PAD       1.00      1.00      1.00    382069\n",
      "\n",
      "    accuracy                           0.99    539550\n",
      "   macro avg       0.88      0.82      0.85    539550\n",
      "weighted avg       0.99      0.99      0.99    539550\n",
      "\n"
     ]
    }
   ],
   "source": [
    "y_pred = model_bi_lstm.predict(X_test)\n",
    "y_pred = np.argmax(y_pred, axis=-1)\n",
    "y_test_true = np.argmax(y_test, -1)\n",
    "y_pred = [[idx2tag[i] for i in row] for row in y_pred]\n",
    "y_test_true = [[idx2tag[i] for i in row] for row in y_test_true] \n",
    "report = flat_classification_report(y_pred=y_pred, y_true=y_test_true)\n",
    "print(report)"
   ]
  },
  {
   "cell_type": "markdown",
   "metadata": {
    "colab_type": "text",
    "id": "pytUbzasFtB8"
   },
   "source": [
    "*   Precision and Recall scores are changed now which indicates predicting False Positives and False Negatives.\n",
    "*   This scores tells confidence about the predicton and can be helpful as according to the importance of the tags.\n",
    "\n"
   ]
  },
  {
   "cell_type": "code",
   "execution_count": 35,
   "metadata": {
    "colab": {
     "base_uri": "https://localhost:8080/",
     "height": 72
    },
    "colab_type": "code",
    "id": "mzbYVNWZgYfZ",
    "outputId": "e77ce52c-ceea-42c3-d930-96ac52d6935a"
   },
   "outputs": [
    {
     "name": "stdout",
     "output_type": "stream",
     "text": [
      "(None, 75, 50)\n",
      "(None, 75, 200)\n",
      "(None, 75, 12)\n"
     ]
    }
   ],
   "source": [
    "print(model_bi_lstm.layers[0].output.shape)\n",
    "print(model_bi_lstm.layers[1].output.shape)\n",
    "print(model_bi_lstm.layers[2].output.shape)"
   ]
  },
  {
   "cell_type": "markdown",
   "metadata": {
    "colab_type": "text",
    "id": "lNXCeuD_GeKX"
   },
   "source": [
    "**Random Prediction**"
   ]
  },
  {
   "cell_type": "code",
   "execution_count": 111,
   "metadata": {
    "colab": {
     "base_uri": "https://localhost:8080/",
     "height": 708
    },
    "colab_type": "code",
    "id": "bb5MjPwwgoHd",
    "outputId": "727c9cc3-ec56-4afb-e5fe-9c086abad734"
   },
   "outputs": [
    {
     "name": "stdout",
     "output_type": "stream",
     "text": [
      "Sample number 1833 of 7194 (Test Set) \n",
      "\n",
      "Word                          !!Actual Tag        !!Predicted Tag\n",
      "=================================================================\n",
      "He                                 O                      O\n",
      "also                               O                      O\n",
      "rejected                           O                      O\n",
      "any                                O                      O\n",
      "dialogue                           O                      O\n",
      "with                               O                      O\n",
      "the                                O                      O\n",
      "main                               O                      O\n",
      "Kurdish                            O                      O\n",
      "political                          O                      O\n",
      "group                              O                      O\n",
      ",                                  O                      O\n",
      "the                                O                      O\n",
      "Democratic                         B-org                  B-org\n",
      "Society                            I-org                  I-org\n",
      "Party                              I-org                  I-org\n",
      ",                                  O                      O\n",
      "until                              O                      O\n",
      "it                                 O                      O\n",
      "openly                             O                      O\n",
      "condemns                           O                      O\n",
      "the                                O                      O\n",
      "outlawed                           O                      O\n",
      "Kurdistan                          B-org                  B-org\n",
      "Workers                            I-org                  I-org\n",
      "Party                              I-org                  I-org\n",
      ",                                  O                      O\n",
      "or                                 O                      O\n",
      "PKK                                B-org                  B-org\n",
      "as                                 O                      O\n",
      "a                                  O                      O\n",
      "terrorist                          O                      O\n",
      "organization                       O                      O\n",
      ".                                  O                      O\n"
     ]
    }
   ],
   "source": [
    "i = np.random.randint(0,X_test.shape[0]) # choose a random number between 0 and len(X_test)\n",
    "p = model.predict(np.array([X_test[i]]))\n",
    "p = np.argmax(p, axis=-1)\n",
    "true = np.argmax(y_test[i], -1)\n",
    "\n",
    "print(\"Sample number {} of {} (Test Set) \\n\".format(i, X_test.shape[0]))\n",
    "print(\"{:30}!!{:18}!!{}\".format(\"Word\", \"Actual Tag \", \"Predicted Tag\"))\n",
    "print(65 * \"=\")\n",
    "for w, t, pred in zip(X_test[i], true, p[0]):\n",
    "    if w != 0:\n",
    "        print(\"{:35}{:23}{}\".format(words[w-2], idx2tag[t], idx2tag[pred]))"
   ]
  },
  {
   "cell_type": "code",
   "execution_count": 112,
   "metadata": {
    "colab": {
     "base_uri": "https://localhost:8080/",
     "height": 708
    },
    "colab_type": "code",
    "id": "SKT_km-wjjdn",
    "outputId": "187492b7-d65f-44a8-8aeb-48a1a25d91bd"
   },
   "outputs": [
    {
     "name": "stdout",
     "output_type": "stream",
     "text": [
      "Sample number 1833 of 7194 (Test Set) \n",
      "\n",
      "Word                          !!Actual Tag        !!Predicted Tag\n",
      "=================================================================\n",
      "He                                 O                      O\n",
      "also                               O                      O\n",
      "rejected                           O                      O\n",
      "any                                O                      O\n",
      "dialogue                           O                      O\n",
      "with                               O                      O\n",
      "the                                O                      O\n",
      "main                               O                      O\n",
      "Kurdish                            O                      O\n",
      "political                          O                      O\n",
      "group                              O                      O\n",
      ",                                  O                      O\n",
      "the                                O                      O\n",
      "Democratic                         B-org                  B-org\n",
      "Society                            I-org                  I-org\n",
      "Party                              I-org                  I-org\n",
      ",                                  O                      O\n",
      "until                              O                      O\n",
      "it                                 O                      O\n",
      "openly                             O                      O\n",
      "condemns                           O                      O\n",
      "the                                O                      O\n",
      "outlawed                           O                      O\n",
      "Kurdistan                          B-org                  B-org\n",
      "Workers                            I-org                  I-org\n",
      "Party                              I-org                  I-org\n",
      ",                                  O                      O\n",
      "or                                 O                      O\n",
      "PKK                                B-org                  B-org\n",
      "as                                 O                      O\n",
      "a                                  O                      O\n",
      "terrorist                          O                      O\n",
      "organization                       O                      O\n",
      ".                                  O                      O\n"
     ]
    }
   ],
   "source": [
    "p = model_bi_lstm.predict(np.array([X_test[i]]))\n",
    "p = np.argmax(p, axis=-1)\n",
    "true = np.argmax(y_test[i], -1)\n",
    "\n",
    "print(\"Sample number {} of {} (Test Set) \\n\".format(i, X_test.shape[0]))\n",
    "print(\"{:30}!!{:18}!!{}\".format(\"Word\", \"Actual Tag \", \"Predicted Tag\"))\n",
    "print(65 * \"=\")\n",
    "for w, t, pred in zip(X_test[i], true, p[0]):\n",
    "    if w != 0:\n",
    "        print(\"{:35}{:23}{}\".format(words[w-2], idx2tag[t], idx2tag[pred]))"
   ]
  },
  {
   "cell_type": "markdown",
   "metadata": {
    "colab_type": "text",
    "id": "yHGX23k96AOz"
   },
   "source": [
    "&emsp;&emsp;&emsp;&emsp;&emsp;&emsp;&emsp;&emsp;&emsp;&emsp;&emsp;&emsp;&emsp;&emsp;&emsp;&emsp;&emsp;&emsp;&emsp;&emsp;&emsp;&emsp;&emsp;&emsp;&emsp;&emsp;&emsp;&emsp;**```END!```**"
   ]
  }
 ],
 "metadata": {
  "colab": {
   "collapsed_sections": [],
   "name": "NER using LSTMs.ipynb",
   "provenance": []
  },
  "kernelspec": {
   "display_name": "Python 3",
   "language": "python",
   "name": "python3"
  },
  "language_info": {
   "codemirror_mode": {
    "name": "ipython",
    "version": 3
   },
   "file_extension": ".py",
   "mimetype": "text/x-python",
   "name": "python",
   "nbconvert_exporter": "python",
   "pygments_lexer": "ipython3",
   "version": "3.6.9"
  }
 },
 "nbformat": 4,
 "nbformat_minor": 1
}
